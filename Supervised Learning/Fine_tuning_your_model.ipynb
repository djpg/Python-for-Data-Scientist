{
 "cells": [
  {
   "cell_type": "code",
   "execution_count": 56,
   "metadata": {},
   "outputs": [],
   "source": [
    "import pandas as pd\n",
    "import numpy as np \n",
    "import matplotlib.pyplot as plt\n",
    "from scipy.stats import randint\n",
    "from sklearn.tree import DecisionTreeClassifier\n",
    "from sklearn.neighbors import KNeighborsClassifier\n",
    "from sklearn.model_selection import train_test_split, cross_val_score, GridSearchCV, RandomizedSearchCV\n",
    "from sklearn.metrics import confusion_matrix, classification_report, roc_curve, roc_auc_score, mean_squared_error\n",
    "from sklearn.linear_model import LogisticRegression, ElasticNet"
   ]
  },
  {
   "cell_type": "markdown",
   "metadata": {},
   "source": [
    "# Métricas para clasificación"
   ]
  },
  {
   "cell_type": "markdown",
   "metadata": {},
   "source": [
    "Como ya hemos visto en los problemas de clasificación la métrica que se usa por defecto a la hora de ver lo bien que se comporta un determinado modelo es la precisión (accuracy). Sin embargo existen determinadas situaciones en las que hacer uso de esta medida no es una buena idea. Supongamos el caso en el cual estamos haciendo uso de un clasificador de spam donde tenemos que el 99% de nuestro emails son útiles y tan solo el 1% es spam. En este caso, si cada vez que llegase un correo el modelo dijese que es el correo no es spam tendría una precisión del 99% pero en absoluto haría lo que queremos, que es detectar los correos que son spam. Para este tipo de casos podemos hacer uso de la matriz de confusión y a partir de esta obtener las medidas de : accuracy, precision, recall y support. La precision se define como el cociente entre tp/(tp+fp), supongamos que estamos intentando identificar perros y  gatos en una imagen. En esta imagen tenemos un total de 12 perros y el resto son gatos. Supongamos que nuestro algoritmo clasifica como perros a 8 elementos, de estos 8 elementos 5 son verdaderamente perros los otros 3 son gatos entonces nuestra precision = 5/(5+3) = 5/8. Por otro lado el recall se define como tp/(tp+fn), en nuestro ejemplo nuestra recall sería 5/(5+7) = 5/12. En el siguiente problema vamos a tratar con el conjunto de datos diabetes.csv, que vamos a tratar de clasificar a gente como diabética o no diabética en función de una serie de características."
   ]
  },
  {
   "cell_type": "code",
   "execution_count": 44,
   "metadata": {},
   "outputs": [
    {
     "name": "stdout",
     "output_type": "stream",
     "text": [
      "[[176  30]\n",
      " [ 56  46]]\n",
      "             precision    recall  f1-score   support\n",
      "\n",
      "          0       0.76      0.85      0.80       206\n",
      "          1       0.61      0.45      0.52       102\n",
      "\n",
      "avg / total       0.71      0.72      0.71       308\n",
      "\n"
     ]
    }
   ],
   "source": [
    "#Cargamos los datos \n",
    "df = pd.read_csv('diabetes.csv')\n",
    "x = df.drop('diabetes', axis = 1)\n",
    "y = df['diabetes']\n",
    "#Dibimos entre train y test\n",
    "x_train, x_test, y_train, y_test = train_test_split(x, y, test_size = 0.4, random_state = 42)\n",
    "#Cremos nuestro clasificador knn con k = 6\n",
    "knn = KNeighborsClassifier(n_neighbors = 6)\n",
    "#Fijamos el predictor\n",
    "knn.fit(x_train, y_train)\n",
    "#Predecimos\n",
    "y_pred = knn.predict(x_test)\n",
    "#Generamos la matriz de confusión y sus métricas\n",
    "print(confusion_matrix(y_test, y_pred))\n",
    "print(classification_report(y_test, y_pred))"
   ]
  },
  {
   "cell_type": "markdown",
   "metadata": {},
   "source": [
    "La métrica support nos indica el número de muestras que hemos clasificado bien como personas con diabetes y no diabetes."
   ]
  },
  {
   "cell_type": "markdown",
   "metadata": {},
   "source": [
    "# Métrica Logloss"
   ]
  },
  {
   "cell_type": "markdown",
   "metadata": {},
   "source": [
    "La métrica logloss cuantifica la precisión de un clasificador al penalizar las clasificaciones falsas. Supongamos la situación donde estamos intentando predecir si un email es spam o no. El 99% de nuestros emails no serán spam y el 1% serán spam, ya sabemos que hacer uso de accuracy como métrica no es adecuado, logloss lo que hace es penalizar fuertemente aquellas situaciones en las que el email se clasifico como spam si este no lo era y viceversa. Es decir, en los casos que el clasificador asigna una probabilidad muy pequeña a la clase correcta, su contribución a la medida logloss será muy grande. Para calcular esta métrica podemos hacer uso de la siguiente función"
   ]
  },
  {
   "cell_type": "code",
   "execution_count": 1,
   "metadata": {},
   "outputs": [],
   "source": [
    "def compute_log_loss(predicted, actual, eps = 1e-14):\n",
    "    '''Calcula la métrica logloss entre el valor predicho y el actual cuando estos son\n",
    "    un array 1D'''\n",
    "    predicted = np.clip(predicted, eps, 1 - eps)\n",
    "    loss = -1 * np.mean(actual * np.log(predicted) + (1 - actual) * np.log(1 - predicted))\n",
    "    return loss"
   ]
  },
  {
   "cell_type": "markdown",
   "metadata": {},
   "source": [
    "# Regresión Logística y Curva ROC"
   ]
  },
  {
   "cell_type": "markdown",
   "metadata": {},
   "source": [
    "La regresión logística pese a su nombre se trata de un algoritmo usado para problemas de clasificación. Se trata de un método que puede ser usado en los problemas de clasificació binaria. Sobre todon en aquellos casos en los que ponemos un umbra de probabilidad entre un tipo u otro. Por ejemplo para un probabilidad superior a 0.7 consideramos 0 y para una probabilidad inferior consideramos 1. A continuación haremos uso de la regresión logística para el caso de diabetes y veremos si consigue mejores resultados que nuestro algoritmo knn."
   ]
  },
  {
   "cell_type": "code",
   "execution_count": 36,
   "metadata": {},
   "outputs": [
    {
     "name": "stdout",
     "output_type": "stream",
     "text": [
      "[[174  32]\n",
      " [ 36  66]]\n",
      "             precision    recall  f1-score   support\n",
      "\n",
      "          0       0.83      0.84      0.84       206\n",
      "          1       0.67      0.65      0.66       102\n",
      "\n",
      "avg / total       0.78      0.78      0.78       308\n",
      "\n"
     ]
    }
   ],
   "source": [
    "#Separamos en train y test\n",
    "x_train, x_test, y_train, y_test = train_test_split(x, y, test_size = 0.4, random_state=42)\n",
    "#Nos creamos nuestro regresor logístico\n",
    "reg_log = LogisticRegression()\n",
    "#Fijamos el regresor\n",
    "reg_log.fit(x_train, y_train)\n",
    "#Predecimos\n",
    "y_pred = reg_log.predict(x_test)\n",
    "#Visualizamos nuestra matriz de confusión y sus métricas\n",
    "print(confusion_matrix(y_test, y_pred))\n",
    "print(classification_report(y_test, y_pred))"
   ]
  },
  {
   "cell_type": "markdown",
   "metadata": {},
   "source": [
    "Classification_reports y la matriz de confusión son una buena forma de evaluar cuantitativamente el rendimiento de un modelo, mientras que la curva ROC nos proporciona una forma más visual de evaluar un modelo. El método predict.proba(), nos devuelve la probabilidad de que un determinado ejemplo pertenezca a una clase, este método está incorporado en muchos clasificadores. "
   ]
  },
  {
   "cell_type": "code",
   "execution_count": 45,
   "metadata": {},
   "outputs": [
    {
     "data": {
      "image/png": "[encoded data removed]",
      "text/plain": [
       "<matplotlib.figure.Figure at 0x7fb180e5ae80>"
      ]
     },
     "metadata": {},
     "output_type": "display_data"
    }
   ],
   "source": [
    "#Computamos la probabilidad de que nuestras predicciones pertenezcan a una determinada clase\n",
    "y_pred_prob = reg_log.predict_proba(x_test)[:, 1]\n",
    "#Generamos los valores de la curva ROC\n",
    "fpr, tpr, thresholds = roc_curve(y_test, y_pred_prob)\n",
    "#Mostramos la curva ROC\n",
    "_ = plt.plot([0,1], [0, 1], 'k--')\n",
    "_ = plt.plot(fpr, tpr, label = 'Logistic Regression')\n",
    "_ = plt.xlabel('False Positive Rate')\n",
    "_ = plt.ylabel('True Positive Rate')\n",
    "_ = plt.title('ROC Curve')\n",
    "plt.show()"
   ]
  },
  {
   "cell_type": "markdown",
   "metadata": {},
   "source": [
    "El área bajo esta curva, se trata de una de las métricas más populares a la hora de evaluar un modelo de clasificación. Un  modelo con un área bajo la curva ROC de 1 indicaría un modelo perfecto, cuanto más elevada sea este área mejor sera capaz nuestro modelo de clasificar de formar correcta nuestro problema binario. A continuación vamos a calcular el área bajo la curva ROC para nuestro conjunto de datos diabetes.csv, realizando un 5-fold cross validation."
   ]
  },
  {
   "cell_type": "code",
   "execution_count": 38,
   "metadata": {},
   "outputs": [
    {
     "name": "stdout",
     "output_type": "stream",
     "text": [
      "AUC: 0.8269084332762231\n"
     ]
    }
   ],
   "source": [
    "y_pred_prob = reg_log.predict_proba(x_test)[:, 1]\n",
    "#Obtenemos el área bajo la curva roc\n",
    "print('AUC: {}'.format(roc_auc_score(y_test, y_pred_prob)))"
   ]
  },
  {
   "cell_type": "code",
   "execution_count": 39,
   "metadata": {},
   "outputs": [
    {
     "name": "stdout",
     "output_type": "stream",
     "text": [
      "AUC [ 0.7987037   0.80777778  0.81962963  0.86584906  0.85037736]\n"
     ]
    }
   ],
   "source": [
    "#Ahora obtenemos el área bajo la curva ROC pero haciendo uso de 5-fold\n",
    "cv_auc = cross_val_score(reg_log, x, y, cv = 5, scoring = 'roc_auc')\n",
    "print('AUC {}'.format(cv_auc))"
   ]
  },
  {
   "cell_type": "markdown",
   "metadata": {},
   "source": [
    "# Hyperparameter tuning"
   ]
  },
  {
   "cell_type": "markdown",
   "metadata": {},
   "source": [
    "A la hora de elegir los parámetros que mejor resultado nos proporciona un modelo, python nos proporiciona la opción de realizar un tuning de parámetros. Para comprender esto mejor, vamos a realizar un ejemplo para el caso del dataset diabetes.csv, donde vamos a tratar de encontrar el mejor parámetro C, que nos controla que el modelo no este overfitting o underfitting. En este caso no vamos a dividir los datos en train y test, ya que únicamente nos queremos centrar en el tuning de parámetros."
   ]
  },
  {
   "cell_type": "code",
   "execution_count": 46,
   "metadata": {},
   "outputs": [
    {
     "name": "stdout",
     "output_type": "stream",
     "text": [
      "Tuned Logistic Regression Parameters: {'C': 268.26957952797272}\n",
      "Best score is 0.7708333333333334\n"
     ]
    }
   ],
   "source": [
    "#Nos creamos nuestro grid de parámetros para nuestro parámetro C\n",
    "c_space = np.logspace(-5, 8, 15)\n",
    "param_grid = {'C': c_space}\n",
    "\n",
    "# Instantiate a logistic regression classifier: logreg\n",
    "logreg = LogisticRegression()\n",
    "\n",
    "# Instantiate the GridSearchCV object: logreg_cv\n",
    "logreg_cv = GridSearchCV(logreg, param_grid, cv=5)\n",
    "\n",
    "# Fit it to the data\n",
    "logreg_cv.fit(x, y)\n",
    "\n",
    "# Print the tuned parameters and score\n",
    "print(\"Tuned Logistic Regression Parameters: {}\".format(logreg_cv.best_params_)) \n",
    "print(\"Best score is {}\".format(logreg_cv.best_score_))\n"
   ]
  },
  {
   "cell_type": "markdown",
   "metadata": {},
   "source": [
    "Realizar un GridSearchCV puede ser computacionalmente bastante costoso, especialmente si estamos buscando un gran espacio de hiperparámetro y manejando múltiples hiperparámetros. Una solución a esto es el uso de RandomizedSearchCV, que no prueba todos los valores posibles para el hiperparámetro. En su lugar, se fijan un número fijo de hiperparámetros a partir de distribuciones de probabilidad configuradas. Para ver su potencial, vamos a hacer uso de un nuevo modelo los árboles de decisión. Para un árbol de decisión el número de parámetros que necesitamos optimos que necesitamos encontrar es bastante elevado: max_features, max_depth, min_samples_leaf."
   ]
  },
  {
   "cell_type": "code",
   "execution_count": 51,
   "metadata": {},
   "outputs": [
    {
     "name": "stdout",
     "output_type": "stream",
     "text": [
      "Los parámetros óptimos son: {'criterion': 'entropy', 'max_depth': 3, 'max_features': 8, 'min_samples_leaf': 1}\n",
      "El mejor resultado es: 0.7395833333333334\n"
     ]
    }
   ],
   "source": [
    "#Nos creamos nuestra distribución de parámetros\n",
    "param_dist = {'max_depth': [3,None],\n",
    "             'max_features': randint(1,9),\n",
    "             'min_samples_leaf': randint(1,9),\n",
    "             'criterion': ['gini', 'entropy']}\n",
    "#Inicializamos nuestro decision tree\n",
    "tree = DecisionTreeClassifier()\n",
    "#Hacemos nuestro tuning de parámetros\n",
    "tree_cv = RandomizedSearchCV(tree, param_dist, cv = 5)\n",
    "#Hacemos el fit\n",
    "tree_cv.fit(x,y)\n",
    "#Mostramos los resultados\n",
    "print('Los parámetros óptimos son: {}'.format(tree_cv.best_params_))\n",
    "print('El mejor resultado es: {}'.format(tree_cv.best_score_))"
   ]
  },
  {
   "cell_type": "markdown",
   "metadata": {},
   "source": [
    "Debemos tener claro que RandomizedSearchCV nunca superará a GridSearchCV, pero en numerosas ocasiones es utilizado ya que computacionalmente es menos costoso."
   ]
  },
  {
   "cell_type": "markdown",
   "metadata": {},
   "source": [
    "Hasta ahora hemos hecho uso de del tuning de parámetros sin realizar conjunto de train&test, esto no es lo ideal. Lo ideal es finalmente tener un conjunto de datos que nuestro algoritmo no haya visto, para ver si nuestro algoritmo está generalizando de forma adecuada."
   ]
  },
  {
   "cell_type": "markdown",
   "metadata": {},
   "source": [
    "La regresión logística además del hiperparámetro C dispone del hiperparámetro penalty que nos indica si debemos de hacer uso de la regularización L1 O L2. A continuación vamos a proceder a realizar un tuning de parámetros."
   ]
  },
  {
   "cell_type": "code",
   "execution_count": 54,
   "metadata": {},
   "outputs": [
    {
     "name": "stdout",
     "output_type": "stream",
     "text": [
      "Los mejores parámetros son: {'penalty': 'l2', 'C': 31.622776601683793}\n",
      "El mejor resultado en términos de accuracy es: 0.7673913043478261\n"
     ]
    }
   ],
   "source": [
    "#Nos creamos nuestro grid de parámetros\n",
    "c_space = np.logspace(-5, 8, 15)\n",
    "param_grid = {'C': c_space, 'penalty': ['l1', 'l2']}\n",
    "#Hacemos nuestra partición en train y test\n",
    "x_train, x_test, y_train, y_test = train_test_split(x, y, test_size = 0.4, random_state = 42)\n",
    "#Nos creamos nuestro regresor logístico\n",
    "logreg = LogisticRegression()\n",
    "#Nos creamos nuestro 5-flod\n",
    "logreg_cv = GridSearchCV(logreg, param_grid, cv = 5)\n",
    "#Hacemos un fit\n",
    "logreg_cv.fit(x_train, y_train)\n",
    "#Mostramos los resultados por pantalla\n",
    "print('Los mejores parámetros son: {}'.format(logreg_cv.best_params_))\n",
    "print('El mejor resultado en términos de accuracy es: {}'.format(logreg_cv.best_score_))"
   ]
  },
  {
   "cell_type": "markdown",
   "metadata": {},
   "source": [
    "Como ya vimos a la hora de regularizar la regresión de Lasso hacía uso de la penalización L1 mientras que la regresión de Ridge hace uso de la penalización L2. Existe otro tipo de regularización de regresión conocido con red elástica. En la regularización de red elástica, la penalización que se realiza es una combinación lineal de las dos anteriores: a*L1 + b*L2. \n",
    "En scikit-learn, este término es conocido como el parámetro l1_ratio. Un l1_ratio de 1 corresponde a una penalización de L1 mientras que cualquier otro valor corresponde a una combinación lineal entre L1 y L2."
   ]
  },
  {
   "cell_type": "code",
   "execution_count": 60,
   "metadata": {},
   "outputs": [
    {
     "name": "stderr",
     "output_type": "stream",
     "text": [
      "/usr/local/lib/python3.5/dist-packages/sklearn/linear_model/coordinate_descent.py:491: ConvergenceWarning: Objective did not converge. You might want to increase the number of iterations. Fitting data with very small alpha may cause precision problems.\n",
      "  ConvergenceWarning)\n",
      "/usr/local/lib/python3.5/dist-packages/sklearn/linear_model/coordinate_descent.py:491: ConvergenceWarning: Objective did not converge. You might want to increase the number of iterations. Fitting data with very small alpha may cause precision problems.\n",
      "  ConvergenceWarning)\n",
      "/usr/local/lib/python3.5/dist-packages/sklearn/linear_model/coordinate_descent.py:491: ConvergenceWarning: Objective did not converge. You might want to increase the number of iterations. Fitting data with very small alpha may cause precision problems.\n",
      "  ConvergenceWarning)\n",
      "/usr/local/lib/python3.5/dist-packages/sklearn/linear_model/coordinate_descent.py:491: ConvergenceWarning: Objective did not converge. You might want to increase the number of iterations. Fitting data with very small alpha may cause precision problems.\n",
      "  ConvergenceWarning)\n",
      "/usr/local/lib/python3.5/dist-packages/sklearn/linear_model/coordinate_descent.py:491: ConvergenceWarning: Objective did not converge. You might want to increase the number of iterations. Fitting data with very small alpha may cause precision problems.\n",
      "  ConvergenceWarning)\n"
     ]
    },
    {
     "name": "stdout",
     "output_type": "stream",
     "text": [
      "Parámetros óptimos para el regresor elástico: {'l1_ratio': 0.0}\n",
      "Elastic Net R2: 0.24765337510702687\n",
      "Elastic Net mse: 0.16664179543611013\n"
     ]
    },
    {
     "name": "stderr",
     "output_type": "stream",
     "text": [
      "/usr/local/lib/python3.5/dist-packages/sklearn/linear_model/coordinate_descent.py:491: ConvergenceWarning: Objective did not converge. You might want to increase the number of iterations. Fitting data with very small alpha may cause precision problems.\n",
      "  ConvergenceWarning)\n"
     ]
    }
   ],
   "source": [
    "#Dividimos nuestro conjunto de entrenamiento en train y test\n",
    "x_train, x_test, y_train, y_test = train_test_split(x, y, test_size = 0.4, random_state = 42)\n",
    "#Nos creamos nuestr grid de parámetros\n",
    "l1_space = np.linspace(0, 1, 100)\n",
    "param_grid = {'l1_ratio': l1_space}\n",
    "#Fijamos nuestro regresor elástico\n",
    "elastic_reg = ElasticNet()\n",
    "#Computamos nuestro grid\n",
    "gm_cv = GridSearchCV(elastic_reg, param_grid, cv = 5)\n",
    "#Hacemos el fit\n",
    "gm_cv.fit(x_train, y_train)\n",
    "#Hacemos predicciones\n",
    "y_pred = gm_cv.predict(x_test)\n",
    "#Calculamos la métrica R^2 y también el erro cuadrático medio\n",
    "r2 = gm_cv.score(x_test, y_test)\n",
    "mse = mean_squared_error(y_test, y_pred)\n",
    "#Mostramos los resultados por pantalla\n",
    "print('Parámetros óptimos para el regresor elástico: {}'.format(gm_cv.best_params_))\n",
    "print('Elastic Net R2: {}'.format(r2))\n",
    "print('Elastic Net mse: {}'.format(mse))"
   ]
  }
 ],
 "metadata": {
  "kernelspec": {
   "display_name": "Python 3",
   "language": "python",
   "name": "python3"
  },
  "language_info": {
   "codemirror_mode": {
    "name": "ipython",
    "version": 3
   },
   "file_extension": ".py",
   "mimetype": "text/x-python",
   "name": "python",
   "nbconvert_exporter": "python",
   "pygments_lexer": "ipython3",
   "version": "3.5.2"
  }
 },
 "nbformat": 4,
 "nbformat_minor": 2
}
