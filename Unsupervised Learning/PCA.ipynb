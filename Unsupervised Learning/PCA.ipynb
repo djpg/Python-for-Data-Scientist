{
 "cells": [
  {
   "cell_type": "markdown",
   "metadata": {},
   "source": [
    "# Decorrelating your data and dimension reduction"
   ]
  },
  {
   "cell_type": "markdown",
   "metadata": {},
   "source": [
    "# Visualizing the PCA transformation"
   ]
  },
  {
   "cell_type": "markdown",
   "metadata": {},
   "source": [
    "El análisis de componentes principales es una técnica utilizada para reducir la dimensionalidad de un conjunto de datos. Técnicamente lo que haces es buscar una proyección según la cual los datos queden mejor representados en términos de mínimos cuadrados. Convierte un conjunto de observaciones de variables posiblemente correlacionadas en un conjunto de valores de variables sin correlación lineal llamadas componentes principales. Esta técnica es usada sobre todo en el análisis exploratorio de datos y para construir modelos predictivos.\n",
    "Una de las ventajas de la PCA para reducir la dimensionalidad de un grupo de datos, es que retiene aquellas características del conjunto de datos que contribuye más a su varianza, manteniendo un orden de bajo nivel de los componentes principales e ignorando los de alto nivel.\n",
    "Existen dos formas básicas a la hora de aplicar la PCA:\n",
    "\n",
    "1.- Método basado en la matriz de correlación, cuando los datos no son dimensionalmente homogéneos o el orden de la magnitud de las variables aleatorias medidas no es el mismo \n",
    "\n",
    "2.- Método basado en la matriz de covarianzas, que se usa cuando los datos son dimensionalmente homogéneos y presentan valores medios similares."
   ]
  },
  {
   "cell_type": "markdown",
   "metadata": {},
   "source": [
    "Supongamos que tenemos la longitud y la anchura de los granos de maíz en un array y sospechamos que estos están correlados, para ello vamos a proceder a realizar un scatter plot de estos valores y a calcular su coeficiente de Pearson."
   ]
  },
  {
   "cell_type": "code",
   "execution_count": 1,
   "metadata": {},
   "outputs": [
    {
     "data": {
      "image/png": "[encoded data removed]",
      "text/plain": [
       "<matplotlib.figure.Figure at 0x7f05f4276cf8>"
      ]
     },
     "metadata": {},
     "output_type": "display_data"
    }
   ],
   "source": [
    "import numpy as np\n",
    "import matplotlib.pyplot as plt\n",
    "from scipy.stats import pearsonr\n",
    "grain = np.array([[ 3.312,  5.763],[ 3.333,  5.554],[ 3.337,  5.291],[ 3.379,  5.324],[ 3.562,  5.658],[ 3.312,  5.386],\n",
    "       [ 3.259,  5.563],[ 3.302,  5.42 ],[ 3.465,  6.053],[ 3.505,  5.884],[ 3.242,  5.714],[ 3.201,  5.438],\n",
    "       [ 3.199,  5.439],[ 3.156,  5.479],[ 3.114,  5.482],[ 3.333,  5.351],[ 3.383,  5.119],[ 3.514,  5.527],\n",
    "       [ 3.466,  5.205],[ 3.049,  5.226],[ 3.129,  5.658],[ 3.168,  5.52 ],[ 3.507,  5.618],[ 2.936,  5.099],\n",
    "       [ 3.245,  5.789],[ 3.421,  5.833],[ 3.026,  5.395],[ 2.956,  5.395],[ 3.221,  5.541],[ 3.065,  5.516],\n",
    "       [ 2.975,  5.454],[ 3.371,  5.757],[ 3.186,  5.717],[ 3.15 ,  5.585],[ 3.328,  5.712],[ 3.485,  5.709],\n",
    "       [ 3.464,  5.826],[ 3.683,  5.832],[ 3.288,  5.656],[ 3.298,  5.397],[ 3.156,  5.348],[ 3.158,  5.351],\n",
    "       [ 3.201,  5.138],[ 3.396,  5.877],[ 3.462,  5.579],[ 3.155,  5.376],[ 3.393,  5.701],[ 3.377,  5.57 ],\n",
    "       [ 3.291,  5.545],[ 3.258,  5.678],[ 3.272,  5.585],[ 3.434,  5.674],[ 3.113,  5.715],[ 3.199,  5.504],\n",
    "       [ 3.113,  5.741],[ 3.212,  5.702],[ 3.377,  5.388],[ 3.412,  5.384],[ 3.419,  5.662],[ 3.032,  5.159],\n",
    "       [ 2.85 ,  5.008],[ 2.879,  4.902],[ 3.042,  5.076],[ 3.07 ,  5.395],[ 3.026,  5.262],[ 3.119,  5.139],\n",
    "       [ 3.19 ,  5.63 ],[ 3.158,  5.609],[ 3.153,  5.569],[ 2.882,  5.412],[ 3.561,  6.191],[ 3.484,  5.998],\n",
    "       [ 3.594,  5.978],[ 3.93 ,  6.154],[ 3.486,  6.017],[ 3.438,  5.927],[ 3.403,  6.064],[ 3.814,  6.579],\n",
    "       [ 3.639,  6.445],[ 3.566,  5.85 ],[ 3.467,  5.875],[ 3.857,  6.006],[ 3.864,  6.285],[ 3.772,  6.384],\n",
    "       [ 3.801,  6.366],[ 3.651,  6.173],[ 3.764,  6.084],[ 3.67 ,  6.549],[ 4.033,  6.573],[ 4.032,  6.45 ],\n",
    "       [ 3.785,  6.581],[ 3.796,  6.172],[ 3.693,  6.272],[ 3.86 ,  6.037],[ 3.485,  6.666],[ 3.463,  6.139],\n",
    "       [ 3.81 ,  6.341],[ 3.552,  6.449],[ 3.512,  6.271],[ 3.684,  6.219],[ 3.525,  5.718],[ 3.694,  5.89 ],\n",
    "       [ 3.892,  6.113],[ 3.681,  6.369],[ 3.755,  6.248],[ 3.786,  6.037],[ 3.806,  6.152],[ 3.573,  6.033],\n",
    "       [ 3.763,  6.675],[ 3.674,  6.153],[ 3.769,  6.107],[ 3.791,  6.303],[ 3.902,  6.183],[ 3.737,  6.259],\n",
    "       [ 3.991,  6.563],[ 3.719,  6.416],[ 3.897,  6.051],[ 3.815,  6.245],[ 3.769,  6.227],[ 3.857,  6.493],\n",
    "       [ 3.962,  6.315],[ 3.563,  6.059],[ 3.387,  5.762],[ 3.771,  5.98 ],[ 3.582,  5.363],[ 3.869,  6.111],\n",
    "       [ 3.594,  6.285],[ 3.687,  5.979],[ 3.773,  6.513],[ 3.69 ,  5.791],[ 3.755,  5.979],[ 3.825,  6.144],\n",
    "       [ 3.268,  5.884],[ 3.395,  5.845],[ 3.408,  5.776],[ 3.465,  5.477],[ 3.574,  6.145],[ 3.231,  5.92 ],\n",
    "       [ 3.286,  5.832],[ 3.472,  5.872],[ 2.994,  5.472],[ 3.073,  5.541],[ 3.074,  5.389],[ 2.967,  5.224],\n",
    "       [ 2.777,  5.314],[ 2.687,  5.279],[ 2.719,  5.176],[ 2.967,  5.267],[ 2.911,  5.386],[ 2.648,  5.317],\n",
    "       [ 2.84 ,  5.263],[ 2.776,  5.405],[ 2.833,  5.408],[ 2.693,  5.22 ],[ 2.755,  5.175],[ 2.675,  5.25 ],\n",
    "       [ 2.849,  5.053],[ 2.745,  5.394],[ 2.678,  5.444],[ 2.695,  5.304],[ 2.879,  5.451],[ 2.81 ,  5.35 ],\n",
    "       [ 2.847,  5.267],[ 2.968,  5.333],[ 2.794,  5.011],[ 2.941,  5.105],[ 2.897,  5.319],[ 2.837,  5.417],\n",
    "       [ 2.668,  5.176],[ 2.715,  5.09 ],[ 2.701,  5.325],[ 2.845,  5.167],[ 2.763,  5.088],[ 2.763,  5.136],\n",
    "       [ 2.641,  5.278],[ 2.821,  4.981],[ 2.71 ,  5.186],[ 2.642,  5.145],[ 2.758,  5.18 ],[ 2.893,  5.357],\n",
    "       [ 2.775,  5.09 ],[ 3.017,  5.236],[ 2.909,  5.24 ],[ 2.85 ,  5.108],[ 3.026,  5.495],[ 2.683,  5.363],\n",
    "       [ 2.716,  5.413],[ 2.675,  5.088],[ 2.821,  5.089],[ 2.787,  4.899],[ 2.717,  5.046],[ 2.804,  5.091],\n",
    "       [ 2.953,  5.132],[ 2.63 ,  5.18 ],[ 2.975,  5.236],[ 3.126,  5.16 ],[ 3.054,  5.224],[ 3.128,  5.32 ],\n",
    "       [ 2.911,  5.41 ],[ 3.155,  5.073],[ 2.989,  5.219],[ 3.135,  4.984],[ 2.81 ,  5.009],[ 3.091,  5.183],\n",
    "       [ 2.96 ,  5.204],[ 2.981,  5.137],[ 2.795,  5.14 ],[ 3.232,  5.236],[ 2.836,  5.175],[ 2.974,  5.243]])\n",
    "\n",
    "width = grain[:,0]\n",
    "length = grain[:,1]\n",
    "\n",
    "_ = plt.scatter(width, length)\n",
    "_ = plt.xlabel('width')\n",
    "_ = plt.ylabel('length')\n",
    "plt.show()\n"
   ]
  },
  {
   "cell_type": "code",
   "execution_count": 6,
   "metadata": {},
   "outputs": [
    {
     "name": "stdout",
     "output_type": "stream",
     "text": [
      "0.860414937714\n"
     ]
    }
   ],
   "source": [
    "#Ahora calculamos el coeficiente de pearson \n",
    "pearson_value, pvalue = pearsonr(width, length)\n",
    "print(pearson_value)"
   ]
  },
  {
   "cell_type": "markdown",
   "metadata": {},
   "source": [
    "Podemos ver como efectivamente estas dos variables tienen un coeficiente de Pearson próximo a uno por lo que tienen una fuerte correlación lineal positiva."
   ]
  },
  {
   "cell_type": "markdown",
   "metadata": {},
   "source": [
    "A continuación vamos a proceder a hacer uso de la PCA de forma que decorrelaremos estas dos variables y mostraremos el coeficiente de Pearson de dichas variables tras aplicar PCA."
   ]
  },
  {
   "cell_type": "code",
   "execution_count": 7,
   "metadata": {},
   "outputs": [
    {
     "data": {
      "image/png": "[encoded data removed]",
      "text/plain": [
       "<matplotlib.figure.Figure at 0x7fbb4365b8d0>"
      ]
     },
     "metadata": {},
     "output_type": "display_data"
    }
   ],
   "source": [
    "from sklearn.decomposition import PCA\n",
    "\n",
    "#Nos creamos el modelo\n",
    "model = PCA()\n",
    "#Hacemos el fit y el transform\n",
    "features_pca = model.fit_transform(grain)\n",
    "#Asingamos a xs e ys los valores de las componentes de la PCA\n",
    "xs = features_pca[:,0]\n",
    "ys = features_pca[:,1]\n",
    "#Hacemos el plot\n",
    "_ = plt.scatter(xs, ys)\n",
    "_ = plt.title('PCA')\n",
    "plt.show()"
   ]
  },
  {
   "cell_type": "code",
   "execution_count": 8,
   "metadata": {},
   "outputs": [
    {
     "name": "stdout",
     "output_type": "stream",
     "text": [
      "2.49155229982e-17\n",
      "1.0\n"
     ]
    }
   ],
   "source": [
    "#Vemos el coeficiente de Pearson\n",
    "pearson_value, pvalue = pearsonr(xs,ys)\n",
    "print(pearson_value)\n",
    "print(pvalue)"
   ]
  },
  {
   "cell_type": "markdown",
   "metadata": {},
   "source": [
    "Podemos ver como obtenemos un coeficiente de Pearson prácticamente 0, es decir, las variables son linealmente independientes. Debemos recordar que los ejes de las componentes principales deben alinearse con la nube de puntos."
   ]
  },
  {
   "cell_type": "markdown",
   "metadata": {},
   "source": [
    "# Intrinsic Dimension "
   ]
  },
  {
   "cell_type": "markdown",
   "metadata": {},
   "source": [
    "La dimensión intrinseca de un dataset se define como el número de variables necesarias para aproximar un dataset. PCA identifica la dimensión intrinseca de un dataset como aquellas componentes PCA que tienen una varianza significativa. Cuando calculamos las componentes de la PCA están son retornadas de forma que quedan ordenadas por varianza, es decir, la primera componente PCA es aquella que tiene una mayor varianza y así sucesivamente. A continuación calcularemos la primera componente principal de nuestro dataset grains."
   ]
  },
  {
   "cell_type": "code",
   "execution_count": 5,
   "metadata": {},
   "outputs": [],
   "source": [
    "#En primer lugar realizamos el scatter plot\n",
    "_ = plt.scatter(grain[:,0], grain[:,1])"
   ]
  },
  {
   "cell_type": "code",
   "execution_count": 7,
   "metadata": {},
   "outputs": [
    {
     "data": {
      "image/png": "[encoded data removed]",
      "text/plain": [
       "<matplotlib.figure.Figure at 0x7f05c80855f8>"
      ]
     },
     "metadata": {},
     "output_type": "display_data"
    }
   ],
   "source": [
    "#Obtenemos la primera componente principal\n",
    "from sklearn.decomposition import PCA\n",
    "#Nos creamos el modelo\n",
    "model = PCA()\n",
    "#Calculamos las PCA features\n",
    "features_PCA = model.fit(grain)\n",
    "#Extraemos las coordenadas de la media de los datos\n",
    "mean = model.mean_\n",
    "#Obtenemos la primera componente principal\n",
    "first_pc = model.components_[0,:]\n",
    "#Hacemos el plot para ver la dirección de los datos donde más varían\n",
    "_ = plt.arrow(mean[0], mean[1], first_pc[0], first_pc[1], color = 'red', width = 0.01)\n",
    "#Mantenemos los ejes en la misma escala\n",
    "plt.axis('equal')\n",
    "plt.show()"
   ]
  },
  {
   "cell_type": "markdown",
   "metadata": {},
   "source": [
    "Esta es la dirección en la cual los datos de nuestro dataset grain tiene una mayor varianza."
   ]
  },
  {
   "cell_type": "markdown",
   "metadata": {},
   "source": [
    "A continuación vamos hacer uso del dataset fish que contiene datos de 6 dimensiones y vamos a ver su dimensión intrinseca."
   ]
  },
  {
   "cell_type": "code",
   "execution_count": 21,
   "metadata": {
    "scrolled": true
   },
   "outputs": [
    {
     "data": {
      "image/png": "[encoded data removed]",
      "text/plain": [
       "<matplotlib.figure.Figure at 0x7f05c0efdef0>"
      ]
     },
     "metadata": {},
     "output_type": "display_data"
    }
   ],
   "source": [
    "from sklearn.decomposition import PCA\n",
    "from sklearn.preprocessing import StandardScaler\n",
    "from sklearn.pipeline import make_pipeline\n",
    "import matplotlib.pyplot as plt\n",
    "import pandas as pd\n",
    "#Importamos datos y nos quedamos con los valores numéricos\n",
    "df = pd.read_csv('fish.csv')\n",
    "df.head()\n",
    "numeric_data = df.drop('Bream', axis = 1).values\n",
    "\n",
    "#Estandarizamos las variables numéricas\n",
    "scaler = StandardScaler()\n",
    "#Nos creamos el modelo PCA\n",
    "model = PCA()\n",
    "#Nos creamos el pipeline\n",
    "pipeline = make_pipeline(scaler, model)\n",
    "#Fijamos el pipeline\n",
    "pipeline.fit(numeric_data)\n",
    "\n",
    "#Mostramos los resultados obtenidos por pantalla\n",
    "features_pca = range(model.n_components_)\n",
    "_ = plt.bar(features_pca, model.explained_variance_)\n",
    "_ = plt.xlabel('PCA features')\n",
    "_ = plt.ylabel('variance')\n",
    "_ = plt.xticks(features_pca)\n",
    "plt.show()"
   ]
  },
  {
   "cell_type": "markdown",
   "metadata": {},
   "source": [
    "Podemos ver como las dos primeras componentes principales son las que más varianza aportan, por lo que este dataset puede ser considerado de dimensión intrinseca 2."
   ]
  },
  {
   "cell_type": "markdown",
   "metadata": {},
   "source": [
    "Ahora que tenemos claro que un valor razonable para la dimensión intrinseca es 2, vamos a proceder a reducir la dimensionalidad de los datos haciendo uso de la PCA."
   ]
  },
  {
   "cell_type": "code",
   "execution_count": 24,
   "metadata": {},
   "outputs": [
    {
     "name": "stdout",
     "output_type": "stream",
     "text": [
      "(210, 2)\n"
     ]
    }
   ],
   "source": [
    "#Nos creamos nuestro StandardScaler\n",
    "scaler = StandardScaler()\n",
    "#Nos creamos nuestra PCA con dos componentes\n",
    "pca = PCA(n_components = 2)\n",
    "#Nos creamos el pipeline\n",
    "pipeline = make_pipeline(scaler, pca)\n",
    "#Fijamos el pipeline\n",
    "pipeline.fit(grain)\n",
    "#Nos creamos el transform\n",
    "features_pca = pipeline.transform(grain)\n",
    "#Vemos el tamaño de nuestro conjunto de datos\n",
    "print(features_pca.shape)"
   ]
  },
  {
   "cell_type": "code",
   "execution_count": null,
   "metadata": {},
   "outputs": [],
   "source": []
  }
 ],
 "metadata": {
  "kernelspec": {
   "display_name": "Python 3",
   "language": "python",
   "name": "python3"
  },
  "language_info": {
   "codemirror_mode": {
    "name": "ipython",
    "version": 3
   },
   "file_extension": ".py",
   "mimetype": "text/x-python",
   "name": "python",
   "nbconvert_exporter": "python",
   "pygments_lexer": "ipython3",
   "version": "3.5.2"
  }
 },
 "nbformat": 4,
 "nbformat_minor": 2
}
